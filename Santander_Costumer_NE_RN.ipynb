{
  "nbformat": 4,
  "nbformat_minor": 0,
  "metadata": {
    "colab": {
      "name": "Santander_Costumer_NE_RN.ipynb",
      "provenance": [],
      "mount_file_id": "15ep_Btg50gfnq1NrV-X0uuG_H1AOXqiV",
      "authorship_tag": "ABX9TyNdWdzaZnuhQ/aeyN9JOrIL",
      "include_colab_link": true
    },
    "kernelspec": {
      "name": "python3",
      "display_name": "Python 3"
    }
  },
  "cells": [
    {
      "cell_type": "markdown",
      "metadata": {
        "id": "view-in-github",
        "colab_type": "text"
      },
      "source": [
        "<a href=\"https://colab.research.google.com/github/LuisPalmaBugler/Kaggle/blob/master/Santander_Costumer_NE_RN.ipynb\" target=\"_parent\"><img src=\"https://colab.research.google.com/assets/colab-badge.svg\" alt=\"Open In Colab\"/></a>"
      ]
    },
    {
      "cell_type": "code",
      "metadata": {
        "id": "tp0XYA-KL4MG",
        "colab_type": "code",
        "colab": {
          "base_uri": "https://localhost:8080/",
          "height": 52
        },
        "outputId": "940f5f15-935f-41c2-cebe-5a81d6bd0433"
      },
      "source": [
        "import numpy as np\n",
        "import pandas as pd\n",
        "import random\n",
        "random.seed(1234)\n",
        "import seaborn as sns\n",
        "import matplotlib.pyplot as plt\n",
        "%matplotlib inline\n",
        "sns.set()\n",
        "from sklearn.cluster import KMeans\n",
        "from sklearn.preprocessing import normalize\n",
        "from sklearn.preprocessing import StandardScaler\n",
        "from sklearn.model_selection import train_test_split\n",
        "from sklearn import preprocessing\n",
        "from sklearn.metrics import confusion_matrix\n",
        "from sklearn.linear_model import LogisticRegression\n",
        "from sklearn.model_selection import cross_validate\n",
        "\n",
        "import keras\n",
        "from keras.models import Sequential\n",
        "from keras.layers import Dense\n",
        "from keras.layers import Dropout\n",
        "from keras.layers import ThresholdedReLU\n",
        "from keras.utils import to_categorical\n",
        "from keras.optimizers import SGD"
      ],
      "execution_count": 1,
      "outputs": [
        {
          "output_type": "stream",
          "text": [
            "/usr/local/lib/python3.6/dist-packages/statsmodels/tools/_testing.py:19: FutureWarning: pandas.util.testing is deprecated. Use the functions in the public API at pandas.testing instead.\n",
            "  import pandas.util.testing as tm\n"
          ],
          "name": "stderr"
        }
      ]
    },
    {
      "cell_type": "code",
      "metadata": {
        "id": "7p-VAnsEMJzn",
        "colab_type": "code",
        "colab": {}
      },
      "source": [
        "train = pd.read_csv('/content/drive/My Drive/Colab Notebooks/Kaggle/Santander/train.csv')"
      ],
      "execution_count": 2,
      "outputs": []
    },
    {
      "cell_type": "code",
      "metadata": {
        "id": "XPoH9wExMJ41",
        "colab_type": "code",
        "colab": {
          "base_uri": "https://localhost:8080/",
          "height": 34
        },
        "outputId": "502c8661-b5d8-459b-c714-584f71a9b887"
      },
      "source": [
        "train_1 = train.loc[train[\"target\"] == 1]\n",
        "train_1.shape"
      ],
      "execution_count": 3,
      "outputs": [
        {
          "output_type": "execute_result",
          "data": {
            "text/plain": [
              "(20098, 202)"
            ]
          },
          "metadata": {
            "tags": []
          },
          "execution_count": 3
        }
      ]
    },
    {
      "cell_type": "code",
      "metadata": {
        "id": "4_eHhBbgMJ2O",
        "colab_type": "code",
        "colab": {
          "base_uri": "https://localhost:8080/",
          "height": 34
        },
        "outputId": "8c02db05-7060-4e1a-eaef-c59e8267a60f"
      },
      "source": [
        "train_0 = train.loc[train[\"target\"] == 0]\n",
        "train_0.shape"
      ],
      "execution_count": 4,
      "outputs": [
        {
          "output_type": "execute_result",
          "data": {
            "text/plain": [
              "(179902, 202)"
            ]
          },
          "metadata": {
            "tags": []
          },
          "execution_count": 4
        }
      ]
    },
    {
      "cell_type": "code",
      "metadata": {
        "id": "aE9-fRgmMUCC",
        "colab_type": "code",
        "colab": {}
      },
      "source": [
        "train_1d = train_1.drop([\"target\",\"ID_code\"], axis=1)\n",
        "train_0d = train_0.drop([\"target\",\"ID_code\"], axis=1)\n",
        "train_1d = normalize(train_1d, norm = 'max', axis = 0)\n",
        "train_0d = normalize(train_0d, norm = 'max', axis = 0)"
      ],
      "execution_count": 5,
      "outputs": []
    },
    {
      "cell_type": "code",
      "metadata": {
        "id": "azTulaF8MUKt",
        "colab_type": "code",
        "colab": {}
      },
      "source": [
        "train_1d_std = train_1d.std(axis=0)\n",
        "train_1d_std = pd.DataFrame(train_1d_std)\n",
        "train_0d_std = train_0d.std(axis=0)\n",
        "train_0d_std = pd.DataFrame(train_0d_std)"
      ],
      "execution_count": 6,
      "outputs": []
    },
    {
      "cell_type": "code",
      "metadata": {
        "id": "mMxSjRl3MUJA",
        "colab_type": "code",
        "colab": {}
      },
      "source": [
        "X_trainset_0d, X_testset_0d, y_trainset_0d, y_testset_0d = train_test_split(train_0d, train_0[\"target\"] , test_size=0.25, random_state=1234)\n",
        "X_testset_0d = pd.DataFrame(X_testset_0d)\n",
        "train_f = train.loc[X_testset_0d.index, :]\n",
        "train_fd = train_f.drop([\"target\",\"ID_code\"], axis=1)\n",
        "train_fd = normalize(train_fd, norm = 'max', axis = 0)\n",
        "train_F = train_f.append(train_1)"
      ],
      "execution_count": 7,
      "outputs": []
    },
    {
      "cell_type": "code",
      "metadata": {
        "id": "BYFWG9xSMwod",
        "colab_type": "code",
        "colab": {
          "base_uri": "https://localhost:8080/",
          "height": 302
        },
        "outputId": "b9265ce5-fc76-4053-97c9-66a77049fbd9"
      },
      "source": [
        "train_yx_0 = pd.DataFrame(train_F[\"target\"])\n",
        "train_yx_0[\"x\"] = train_F[\"target\"]\n",
        "sns.countplot(train_yx_0[\"x\"], palette='Set3')"
      ],
      "execution_count": 8,
      "outputs": [
        {
          "output_type": "execute_result",
          "data": {
            "text/plain": [
              "<matplotlib.axes._subplots.AxesSubplot at 0x7f83fef28160>"
            ]
          },
          "metadata": {
            "tags": []
          },
          "execution_count": 8
        },
        {
          "output_type": "display_data",
          "data": {
            "image/png": "[encoded data removed]",
            "text/plain": [
              "<Figure size 432x288 with 1 Axes>"
            ]
          },
          "metadata": {
            "tags": [],
            "needs_background": "light"
          }
        }
      ]
    },
    {
      "cell_type": "code",
      "metadata": {
        "id": "PMq52mTeMwmX",
        "colab_type": "code",
        "colab": {}
      },
      "source": [
        "train_Fn = train_F.drop([\"target\",\"ID_code\"], axis=1)\n",
        "train_Fn = normalize(train_Fn, norm = 'max', axis = 0)\n",
        "train_Fn = pd.DataFrame(train_Fn)"
      ],
      "execution_count": 9,
      "outputs": []
    },
    {
      "cell_type": "code",
      "metadata": {
        "id": "7pdy-N77Mwi7",
        "colab_type": "code",
        "colab": {}
      },
      "source": [
        "X_trainset_v, X_validset, y_trainset_v, y_validset = train_test_split(train_Fn, train_F[\"target\"] , test_size=0.1, random_state=1234)"
      ],
      "execution_count": 10,
      "outputs": []
    },
    {
      "cell_type": "code",
      "metadata": {
        "id": "aB4mipJmM7lW",
        "colab_type": "code",
        "colab": {}
      },
      "source": [
        "n_cols = X_trainset_v.shape[1]"
      ],
      "execution_count": 11,
      "outputs": []
    },
    {
      "cell_type": "code",
      "metadata": {
        "id": "dX-1ztpHM7jF",
        "colab_type": "code",
        "colab": {}
      },
      "source": [
        "def regression_model():\n",
        "    model = Sequential()\n",
        "    model.add(Dense(50, kernel_initializer='uniform', activation='relu', input_shape=(n_cols,)))\n",
        "    model.add(Dropout(0.15))\n",
        "    model.add(Dense(50, kernel_initializer='uniform', activation='softplus'))\n",
        "    model.add(Dropout(0.15))\n",
        "    model.add(Dense(2, kernel_initializer='uniform', activation='softmax'))\n",
        "    \n",
        "    sgd = SGD(lr=0.05, decay=1e-6, momentum=0.9, nesterov=True)\n",
        "    model.compile(optimizer=sgd, loss='categorical_crossentropy', metrics = ['accuracy'])\n",
        "    return model"
      ],
      "execution_count": 20,
      "outputs": []
    },
    {
      "cell_type": "code",
      "metadata": {
        "id": "Tx0JaSdcM7hF",
        "colab_type": "code",
        "colab": {}
      },
      "source": [
        "y_trainset_vc = to_categorical(y_trainset_v, num_classes = 2, dtype=\"int64\")"
      ],
      "execution_count": 21,
      "outputs": []
    },
    {
      "cell_type": "code",
      "metadata": {
        "id": "7cuZr-W9M7ex",
        "colab_type": "code",
        "colab": {
          "base_uri": "https://localhost:8080/",
          "height": 1000
        },
        "outputId": "683a7b00-7002-47d6-98e3-4850fd29e99a"
      },
      "source": [
        "model = regression_model()\n",
        "model.fit(X_trainset_v, y_trainset_vc, validation_split=0.2, epochs=40, verbose=2)"
      ],
      "execution_count": 22,
      "outputs": [
        {
          "output_type": "stream",
          "text": [
            "Epoch 1/40\n",
            "1465/1465 - 2s - loss: 0.5633 - accuracy: 0.7093 - val_loss: 0.6292 - val_accuracy: 0.6908\n",
            "Epoch 2/40\n",
            "1465/1465 - 2s - loss: 0.5060 - accuracy: 0.7563 - val_loss: 0.5007 - val_accuracy: 0.7567\n",
            "Epoch 3/40\n",
            "1465/1465 - 2s - loss: 0.4937 - accuracy: 0.7653 - val_loss: 0.4799 - val_accuracy: 0.7760\n",
            "Epoch 4/40\n",
            "1465/1465 - 2s - loss: 0.4893 - accuracy: 0.7670 - val_loss: 0.4975 - val_accuracy: 0.7605\n",
            "Epoch 5/40\n",
            "1465/1465 - 2s - loss: 0.4856 - accuracy: 0.7712 - val_loss: 0.4733 - val_accuracy: 0.7745\n",
            "Epoch 6/40\n",
            "1465/1465 - 2s - loss: 0.4836 - accuracy: 0.7714 - val_loss: 0.4803 - val_accuracy: 0.7827\n",
            "Epoch 7/40\n",
            "1465/1465 - 2s - loss: 0.4810 - accuracy: 0.7743 - val_loss: 0.4966 - val_accuracy: 0.7681\n",
            "Epoch 8/40\n",
            "1465/1465 - 2s - loss: 0.4788 - accuracy: 0.7745 - val_loss: 0.4690 - val_accuracy: 0.7838\n",
            "Epoch 9/40\n",
            "1465/1465 - 2s - loss: 0.4776 - accuracy: 0.7751 - val_loss: 0.4834 - val_accuracy: 0.7710\n",
            "Epoch 10/40\n",
            "1465/1465 - 2s - loss: 0.4739 - accuracy: 0.7771 - val_loss: 0.4802 - val_accuracy: 0.7836\n",
            "Epoch 11/40\n",
            "1465/1465 - 2s - loss: 0.4723 - accuracy: 0.7760 - val_loss: 0.4688 - val_accuracy: 0.7814\n",
            "Epoch 12/40\n",
            "1465/1465 - 2s - loss: 0.4724 - accuracy: 0.7769 - val_loss: 0.4801 - val_accuracy: 0.7715\n",
            "Epoch 13/40\n",
            "1465/1465 - 2s - loss: 0.4713 - accuracy: 0.7795 - val_loss: 0.6136 - val_accuracy: 0.6953\n",
            "Epoch 14/40\n",
            "1465/1465 - 2s - loss: 0.4705 - accuracy: 0.7766 - val_loss: 0.4659 - val_accuracy: 0.7847\n",
            "Epoch 15/40\n",
            "1465/1465 - 2s - loss: 0.4691 - accuracy: 0.7795 - val_loss: 0.4938 - val_accuracy: 0.7646\n",
            "Epoch 16/40\n",
            "1465/1465 - 2s - loss: 0.4679 - accuracy: 0.7806 - val_loss: 0.4745 - val_accuracy: 0.7833\n",
            "Epoch 17/40\n",
            "1465/1465 - 2s - loss: 0.4662 - accuracy: 0.7811 - val_loss: 0.4728 - val_accuracy: 0.7782\n",
            "Epoch 18/40\n",
            "1465/1465 - 2s - loss: 0.4636 - accuracy: 0.7799 - val_loss: 0.4821 - val_accuracy: 0.7788\n",
            "Epoch 19/40\n",
            "1465/1465 - 2s - loss: 0.4646 - accuracy: 0.7803 - val_loss: 0.4663 - val_accuracy: 0.7848\n",
            "Epoch 20/40\n",
            "1465/1465 - 2s - loss: 0.4627 - accuracy: 0.7820 - val_loss: 0.4659 - val_accuracy: 0.7826\n",
            "Epoch 21/40\n",
            "1465/1465 - 2s - loss: 0.4623 - accuracy: 0.7831 - val_loss: 0.4688 - val_accuracy: 0.7830\n",
            "Epoch 22/40\n",
            "1465/1465 - 2s - loss: 0.4606 - accuracy: 0.7815 - val_loss: 0.4699 - val_accuracy: 0.7856\n",
            "Epoch 23/40\n",
            "1465/1465 - 2s - loss: 0.4584 - accuracy: 0.7832 - val_loss: 0.4640 - val_accuracy: 0.7856\n",
            "Epoch 24/40\n",
            "1465/1465 - 2s - loss: 0.4588 - accuracy: 0.7846 - val_loss: 0.4634 - val_accuracy: 0.7844\n",
            "Epoch 25/40\n",
            "1465/1465 - 2s - loss: 0.4562 - accuracy: 0.7845 - val_loss: 0.4676 - val_accuracy: 0.7812\n",
            "Epoch 26/40\n",
            "1465/1465 - 2s - loss: 0.4559 - accuracy: 0.7856 - val_loss: 0.4709 - val_accuracy: 0.7835\n",
            "Epoch 27/40\n",
            "1465/1465 - 2s - loss: 0.4572 - accuracy: 0.7832 - val_loss: 0.4692 - val_accuracy: 0.7846\n",
            "Epoch 28/40\n",
            "1465/1465 - 2s - loss: 0.4534 - accuracy: 0.7852 - val_loss: 0.4950 - val_accuracy: 0.7574\n",
            "Epoch 29/40\n",
            "1465/1465 - 2s - loss: 0.4514 - accuracy: 0.7860 - val_loss: 0.4711 - val_accuracy: 0.7818\n",
            "Epoch 30/40\n",
            "1465/1465 - 2s - loss: 0.4504 - accuracy: 0.7872 - val_loss: 0.4743 - val_accuracy: 0.7777\n",
            "Epoch 31/40\n",
            "1465/1465 - 2s - loss: 0.4480 - accuracy: 0.7907 - val_loss: 0.4697 - val_accuracy: 0.7868\n",
            "Epoch 32/40\n",
            "1465/1465 - 2s - loss: 0.4496 - accuracy: 0.7866 - val_loss: 0.4639 - val_accuracy: 0.7856\n",
            "Epoch 33/40\n",
            "1465/1465 - 2s - loss: 0.4484 - accuracy: 0.7878 - val_loss: 0.4646 - val_accuracy: 0.7890\n",
            "Epoch 34/40\n",
            "1465/1465 - 2s - loss: 0.4480 - accuracy: 0.7888 - val_loss: 0.4639 - val_accuracy: 0.7871\n",
            "Epoch 35/40\n",
            "1465/1465 - 2s - loss: 0.4452 - accuracy: 0.7904 - val_loss: 0.4688 - val_accuracy: 0.7847\n",
            "Epoch 36/40\n",
            "1465/1465 - 2s - loss: 0.4450 - accuracy: 0.7895 - val_loss: 0.4714 - val_accuracy: 0.7826\n",
            "Epoch 37/40\n",
            "1465/1465 - 2s - loss: 0.4448 - accuracy: 0.7886 - val_loss: 0.4675 - val_accuracy: 0.7837\n",
            "Epoch 38/40\n",
            "1465/1465 - 2s - loss: 0.4419 - accuracy: 0.7911 - val_loss: 0.4724 - val_accuracy: 0.7858\n",
            "Epoch 39/40\n",
            "1465/1465 - 2s - loss: 0.4398 - accuracy: 0.7919 - val_loss: 0.4642 - val_accuracy: 0.7860\n",
            "Epoch 40/40\n",
            "1465/1465 - 2s - loss: 0.4402 - accuracy: 0.7933 - val_loss: 0.4791 - val_accuracy: 0.7811\n"
          ],
          "name": "stdout"
        },
        {
          "output_type": "execute_result",
          "data": {
            "text/plain": [
              "<tensorflow.python.keras.callbacks.History at 0x7f83f435a048>"
            ]
          },
          "metadata": {
            "tags": []
          },
          "execution_count": 22
        }
      ]
    },
    {
      "cell_type": "code",
      "metadata": {
        "id": "w8Shm9WQRvDo",
        "colab_type": "code",
        "colab": {}
      },
      "source": [
        "train_history = model.history.history"
      ],
      "execution_count": 23,
      "outputs": []
    },
    {
      "cell_type": "code",
      "metadata": {
        "id": "gnkMrQ02RwU8",
        "colab_type": "code",
        "colab": {
          "base_uri": "https://localhost:8080/",
          "height": 301
        },
        "outputId": "f3927861-0254-470f-a5b5-46375d7465aa"
      },
      "source": [
        "plt.plot(train_history['loss'])\n",
        "plt.plot(train_history['val_loss'])\n",
        "plt.title('Average Loss per Epoch vs Epoch')\n",
        "plt.ylabel('Average Loss per Epoch')\n",
        "plt.xlabel('Epoch')\n",
        "plt.legend(['Train', 'Val'], loc='upper left')\n",
        "plt.show()"
      ],
      "execution_count": 24,
      "outputs": [
        {
          "output_type": "display_data",
          "data": {
            "image/png": "[encoded data removed]",
            "text/plain": [
              "<Figure size 432x288 with 1 Axes>"
            ]
          },
          "metadata": {
            "tags": [],
            "needs_background": "light"
          }
        }
      ]
    },
    {
      "cell_type": "code",
      "metadata": {
        "id": "kVPEuXSbRwRe",
        "colab_type": "code",
        "colab": {
          "base_uri": "https://localhost:8080/",
          "height": 301
        },
        "outputId": "e0e94528-5441-4681-aec6-058515e3905e"
      },
      "source": [
        "plt.plot(train_history['accuracy'])\n",
        "plt.plot(train_history['val_accuracy'])\n",
        "plt.title('Accuracy vs Epoch')\n",
        "plt.ylabel('Accuracy')\n",
        "plt.xlabel('Epoch')\n",
        "plt.legend(['Train', 'Val'], loc='upper left')\n",
        "plt.show()"
      ],
      "execution_count": 25,
      "outputs": [
        {
          "output_type": "display_data",
          "data": {
            "image/png": "[encoded data removed]",
            "text/plain": [
              "<Figure size 432x288 with 1 Axes>"
            ]
          },
          "metadata": {
            "tags": [],
            "needs_background": "light"
          }
        }
      ]
    },
    {
      "cell_type": "code",
      "metadata": {
        "id": "I2KiGE2uR2iw",
        "colab_type": "code",
        "colab": {}
      },
      "source": [
        "yhat = model.predict(X_validset)\n",
        "yhat = np.round(yhat, decimals = 0)\n",
        "yhat = pd.DataFrame(yhat.astype('int'))"
      ],
      "execution_count": 26,
      "outputs": []
    },
    {
      "cell_type": "code",
      "metadata": {
        "id": "pknBzgb-R2fX",
        "colab_type": "code",
        "colab": {
          "base_uri": "https://localhost:8080/",
          "height": 34
        },
        "outputId": "4f9e03ad-1e97-45ea-cfc8-0a3941ae51e3"
      },
      "source": [
        "confusion_matrix(y_validset, yhat[1], labels=[1,0]).ravel()"
      ],
      "execution_count": 27,
      "outputs": [
        {
          "output_type": "execute_result",
          "data": {
            "text/plain": [
              "array([1760,  710,  729, 3309])"
            ]
          },
          "metadata": {
            "tags": []
          },
          "execution_count": 27
        }
      ]
    },
    {
      "cell_type": "code",
      "metadata": {
        "id": "cm1KJUDiV9q-",
        "colab_type": "code",
        "colab": {}
      },
      "source": [
        "test = pd.read_csv('/content/drive/My Drive/Colab Notebooks/Kaggle/Santander/test.csv')"
      ],
      "execution_count": null,
      "outputs": []
    },
    {
      "cell_type": "code",
      "metadata": {
        "id": "8rJgQLCoV76l",
        "colab_type": "code",
        "colab": {}
      },
      "source": [
        "test_s = test.drop([\"ID_code\"], axis=1)\n",
        "test_sn = normalize(test_s, norm = 'max', axis = 0)\n",
        "test_sn = pd.DataFrame(test_sn)"
      ],
      "execution_count": null,
      "outputs": []
    },
    {
      "cell_type": "code",
      "metadata": {
        "id": "FjkRycUjV7sR",
        "colab_type": "code",
        "colab": {}
      },
      "source": [
        "yhat = model.predict(test_sn)\n",
        "yhat = np.round(yhat, decimals = 0)\n",
        "yhat = pd.DataFrame(yhat.astype('int'))\n",
        "yhat[\"y\"] = yhat[1]"
      ],
      "execution_count": null,
      "outputs": []
    },
    {
      "cell_type": "code",
      "metadata": {
        "id": "vSSssMbXWbtp",
        "colab_type": "code",
        "colab": {}
      },
      "source": [
        "SS = pd.read_csv('/content/drive/My Drive/Colab Notebooks/Kaggle/Santander/sample_submission.csv')"
      ],
      "execution_count": null,
      "outputs": []
    },
    {
      "cell_type": "code",
      "metadata": {
        "id": "6spfObDkWRCS",
        "colab_type": "code",
        "colab": {}
      },
      "source": [
        "SS = SS.join(yhat[\"y\"])"
      ],
      "execution_count": null,
      "outputs": []
    },
    {
      "cell_type": "code",
      "metadata": {
        "id": "w8mJMbCpWQ_O",
        "colab_type": "code",
        "colab": {
          "base_uri": "https://localhost:8080/",
          "height": 202
        },
        "outputId": "8afa3baf-1fbc-41e6-bf57-fdd671a9aba0"
      },
      "source": [
        "SS.head()"
      ],
      "execution_count": null,
      "outputs": [
        {
          "output_type": "execute_result",
          "data": {
            "text/html": [
              "<div>\n",
              "<style scoped>\n",
              "    .dataframe tbody tr th:only-of-type {\n",
              "        vertical-align: middle;\n",
              "    }\n",
              "\n",
              "    .dataframe tbody tr th {\n",
              "        vertical-align: top;\n",
              "    }\n",
              "\n",
              "    .dataframe thead th {\n",
              "        text-align: right;\n",
              "    }\n",
              "</style>\n",
              "<table border=\"1\" class=\"dataframe\">\n",
              "  <thead>\n",
              "    <tr style=\"text-align: right;\">\n",
              "      <th></th>\n",
              "      <th>ID_code</th>\n",
              "      <th>target</th>\n",
              "      <th>y</th>\n",
              "    </tr>\n",
              "  </thead>\n",
              "  <tbody>\n",
              "    <tr>\n",
              "      <th>0</th>\n",
              "      <td>test_0</td>\n",
              "      <td>0</td>\n",
              "      <td>1</td>\n",
              "    </tr>\n",
              "    <tr>\n",
              "      <th>1</th>\n",
              "      <td>test_1</td>\n",
              "      <td>0</td>\n",
              "      <td>1</td>\n",
              "    </tr>\n",
              "    <tr>\n",
              "      <th>2</th>\n",
              "      <td>test_2</td>\n",
              "      <td>0</td>\n",
              "      <td>0</td>\n",
              "    </tr>\n",
              "    <tr>\n",
              "      <th>3</th>\n",
              "      <td>test_3</td>\n",
              "      <td>0</td>\n",
              "      <td>1</td>\n",
              "    </tr>\n",
              "    <tr>\n",
              "      <th>4</th>\n",
              "      <td>test_4</td>\n",
              "      <td>0</td>\n",
              "      <td>0</td>\n",
              "    </tr>\n",
              "  </tbody>\n",
              "</table>\n",
              "</div>"
            ],
            "text/plain": [
              "  ID_code  target  y\n",
              "0  test_0       0  1\n",
              "1  test_1       0  1\n",
              "2  test_2       0  0\n",
              "3  test_3       0  1\n",
              "4  test_4       0  0"
            ]
          },
          "metadata": {
            "tags": []
          },
          "execution_count": 50
        }
      ]
    },
    {
      "cell_type": "code",
      "metadata": {
        "id": "C_vvSTHWWQ7y",
        "colab_type": "code",
        "colab": {}
      },
      "source": [
        "SS = SS.drop([\"target\"], axis=1)"
      ],
      "execution_count": null,
      "outputs": []
    },
    {
      "cell_type": "code",
      "metadata": {
        "id": "dcI4aCl-WQ2s",
        "colab_type": "code",
        "colab": {
          "base_uri": "https://localhost:8080/",
          "height": 202
        },
        "outputId": "5ec7cffd-e2a5-4f34-aad9-0c58da9725c9"
      },
      "source": [
        "SS.head()"
      ],
      "execution_count": null,
      "outputs": [
        {
          "output_type": "execute_result",
          "data": {
            "text/html": [
              "<div>\n",
              "<style scoped>\n",
              "    .dataframe tbody tr th:only-of-type {\n",
              "        vertical-align: middle;\n",
              "    }\n",
              "\n",
              "    .dataframe tbody tr th {\n",
              "        vertical-align: top;\n",
              "    }\n",
              "\n",
              "    .dataframe thead th {\n",
              "        text-align: right;\n",
              "    }\n",
              "</style>\n",
              "<table border=\"1\" class=\"dataframe\">\n",
              "  <thead>\n",
              "    <tr style=\"text-align: right;\">\n",
              "      <th></th>\n",
              "      <th>ID_code</th>\n",
              "      <th>y</th>\n",
              "    </tr>\n",
              "  </thead>\n",
              "  <tbody>\n",
              "    <tr>\n",
              "      <th>0</th>\n",
              "      <td>test_0</td>\n",
              "      <td>1</td>\n",
              "    </tr>\n",
              "    <tr>\n",
              "      <th>1</th>\n",
              "      <td>test_1</td>\n",
              "      <td>1</td>\n",
              "    </tr>\n",
              "    <tr>\n",
              "      <th>2</th>\n",
              "      <td>test_2</td>\n",
              "      <td>0</td>\n",
              "    </tr>\n",
              "    <tr>\n",
              "      <th>3</th>\n",
              "      <td>test_3</td>\n",
              "      <td>1</td>\n",
              "    </tr>\n",
              "    <tr>\n",
              "      <th>4</th>\n",
              "      <td>test_4</td>\n",
              "      <td>0</td>\n",
              "    </tr>\n",
              "  </tbody>\n",
              "</table>\n",
              "</div>"
            ],
            "text/plain": [
              "  ID_code  y\n",
              "0  test_0  1\n",
              "1  test_1  1\n",
              "2  test_2  0\n",
              "3  test_3  1\n",
              "4  test_4  0"
            ]
          },
          "metadata": {
            "tags": []
          },
          "execution_count": 52
        }
      ]
    },
    {
      "cell_type": "code",
      "metadata": {
        "id": "s7E5xybmZwpe",
        "colab_type": "code",
        "colab": {}
      },
      "source": [
        "SS['target'] = SS['y']"
      ],
      "execution_count": null,
      "outputs": []
    },
    {
      "cell_type": "code",
      "metadata": {
        "id": "FjTFABlzZwdF",
        "colab_type": "code",
        "colab": {}
      },
      "source": [
        "SS.to_csv('sample_submission_NE_RN.csv', index=False)"
      ],
      "execution_count": null,
      "outputs": []
    }
  ]
}