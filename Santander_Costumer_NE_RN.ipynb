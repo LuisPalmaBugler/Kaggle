{
  "nbformat": 4,
  "nbformat_minor": 0,
  "metadata": {
    "colab": {
      "name": "Santander_Costumer_NE_RN.ipynb",
      "provenance": [],
      "mount_file_id": "15ep_Btg50gfnq1NrV-X0uuG_H1AOXqiV",
      "authorship_tag": "ABX9TyNI5Lk8YIFIScFP2m01vQ5N",
      "include_colab_link": true
    },
    "kernelspec": {
      "name": "python3",
      "display_name": "Python 3"
    }
  },
  "cells": [
    {
      "cell_type": "markdown",
      "metadata": {
        "id": "view-in-github",
        "colab_type": "text"
      },
      "source": [
        "<a href=\"https://colab.research.google.com/github/LuisPalmaBugler/Kaggle/blob/master/Santander_Costumer_NE_RN.ipynb\" target=\"_parent\"><img src=\"https://colab.research.google.com/assets/colab-badge.svg\" alt=\"Open In Colab\"/></a>"
      ]
    },
    {
      "cell_type": "code",
      "metadata": {
        "id": "tNd7_FcksnhK",
        "colab_type": "code",
        "colab": {
          "base_uri": "https://localhost:8080/",
          "height": 52
        },
        "outputId": "2a7db5b2-5ce4-4fe1-ad06-f0dd62af7144"
      },
      "source": [
        "import numpy as np\n",
        "import pandas as pd\n",
        "import random\n",
        "import matplotlib.pyplot as plt\n",
        "%matplotlib inline\n",
        "import seaborn as sns\n",
        "sns.set()\n",
        "\n",
        "from sklearn import preprocessing\n",
        "from sklearn.preprocessing import normalize\n",
        "from sklearn.model_selection import train_test_split\n",
        "from sklearn.metrics import confusion_matrix\n",
        "\n",
        "import keras\n",
        "from keras.models import Sequential\n",
        "from keras.layers import Dense\n",
        "from keras.layers import Dropout\n",
        "from keras.utils import to_categorical\n",
        "from keras.optimizers import SGD"
      ],
      "execution_count": 1,
      "outputs": [
        {
          "output_type": "stream",
          "text": [
            "/usr/local/lib/python3.6/dist-packages/statsmodels/tools/_testing.py:19: FutureWarning: pandas.util.testing is deprecated. Use the functions in the public API at pandas.testing instead.\n",
            "  import pandas.util.testing as tm\n"
          ],
          "name": "stderr"
        }
      ]
    },
    {
      "cell_type": "code",
      "metadata": {
        "id": "7p-VAnsEMJzn",
        "colab_type": "code",
        "colab": {}
      },
      "source": [
        "train = pd.read_csv('/content/drive/My Drive/Colab Notebooks/Kaggle/Santander/train.csv')"
      ],
      "execution_count": 2,
      "outputs": []
    },
    {
      "cell_type": "code",
      "metadata": {
        "id": "XPoH9wExMJ41",
        "colab_type": "code",
        "colab": {
          "base_uri": "https://localhost:8080/",
          "height": 34
        },
        "outputId": "ce2ea41c-c699-4adb-8295-7034ba0b2769"
      },
      "source": [
        "train_1 = train.loc[train[\"target\"] == 1]\n",
        "train_1.shape"
      ],
      "execution_count": 3,
      "outputs": [
        {
          "output_type": "execute_result",
          "data": {
            "text/plain": [
              "(20098, 202)"
            ]
          },
          "metadata": {
            "tags": []
          },
          "execution_count": 3
        }
      ]
    },
    {
      "cell_type": "code",
      "metadata": {
        "id": "4_eHhBbgMJ2O",
        "colab_type": "code",
        "colab": {
          "base_uri": "https://localhost:8080/",
          "height": 34
        },
        "outputId": "05b9677a-1133-4765-80b3-b9dc7dd999e7"
      },
      "source": [
        "train_0 = train.loc[train[\"target\"] == 0]\n",
        "train_0.shape"
      ],
      "execution_count": 4,
      "outputs": [
        {
          "output_type": "execute_result",
          "data": {
            "text/plain": [
              "(179902, 202)"
            ]
          },
          "metadata": {
            "tags": []
          },
          "execution_count": 4
        }
      ]
    },
    {
      "cell_type": "code",
      "metadata": {
        "id": "aE9-fRgmMUCC",
        "colab_type": "code",
        "colab": {}
      },
      "source": [
        "train_1d = train_1.drop([\"target\",\"ID_code\"], axis=1)\n",
        "train_0d = train_0.drop([\"target\",\"ID_code\"], axis=1)\n",
        "train_1d = normalize(train_1d, norm = 'max', axis = 0)\n",
        "train_0d = normalize(train_0d, norm = 'max', axis = 0)"
      ],
      "execution_count": 5,
      "outputs": []
    },
    {
      "cell_type": "code",
      "metadata": {
        "id": "azTulaF8MUKt",
        "colab_type": "code",
        "colab": {}
      },
      "source": [
        "train_1d_std = train_1d.std(axis=0)\n",
        "train_1d_std = pd.DataFrame(train_1d_std)\n",
        "train_0d_std = train_0d.std(axis=0)\n",
        "train_0d_std = pd.DataFrame(train_0d_std)"
      ],
      "execution_count": 6,
      "outputs": []
    },
    {
      "cell_type": "code",
      "metadata": {
        "id": "mMxSjRl3MUJA",
        "colab_type": "code",
        "colab": {}
      },
      "source": [
        "X_trainset_0d, X_testset_0d, y_trainset_0d, y_testset_0d = train_test_split(train_0d, train_0[\"target\"] , test_size=0.25, random_state=1234)\n",
        "X_testset_0d = pd.DataFrame(X_testset_0d)\n",
        "train_f = train.loc[X_testset_0d.index, :]\n",
        "train_fd = train_f.drop([\"target\",\"ID_code\"], axis=1)\n",
        "train_fd = normalize(train_fd, norm = 'max', axis = 0)\n",
        "train_F = train_f.append(train_1)"
      ],
      "execution_count": 7,
      "outputs": []
    },
    {
      "cell_type": "code",
      "metadata": {
        "id": "BYFWG9xSMwod",
        "colab_type": "code",
        "colab": {
          "base_uri": "https://localhost:8080/",
          "height": 302
        },
        "outputId": "1988152c-de47-4c0d-b444-2965eaa45f5a"
      },
      "source": [
        "train_yx_0 = pd.DataFrame(train_F[\"target\"])\n",
        "train_yx_0[\"x\"] = train_F[\"target\"]\n",
        "sns.countplot(train_yx_0[\"x\"], palette='Set3')"
      ],
      "execution_count": 8,
      "outputs": [
        {
          "output_type": "execute_result",
          "data": {
            "text/plain": [
              "<matplotlib.axes._subplots.AxesSubplot at 0x7f1b133f20f0>"
            ]
          },
          "metadata": {
            "tags": []
          },
          "execution_count": 8
        },
        {
          "output_type": "display_data",
          "data": {
            "image/png": "[encoded data removed]",
            "text/plain": [
              "<Figure size 432x288 with 1 Axes>"
            ]
          },
          "metadata": {
            "tags": [],
            "needs_background": "light"
          }
        }
      ]
    },
    {
      "cell_type": "code",
      "metadata": {
        "id": "PMq52mTeMwmX",
        "colab_type": "code",
        "colab": {}
      },
      "source": [
        "train_Fn = train_F.drop([\"target\",\"ID_code\"], axis=1)\n",
        "train_Fn = normalize(train_Fn, norm = 'max', axis = 0)\n",
        "train_Fn = pd.DataFrame(train_Fn)"
      ],
      "execution_count": 9,
      "outputs": []
    },
    {
      "cell_type": "code",
      "metadata": {
        "id": "7pdy-N77Mwi7",
        "colab_type": "code",
        "colab": {}
      },
      "source": [
        "X_trainset_v, X_validset, y_trainset_v, y_validset = train_test_split(train_Fn, train_F[\"target\"] , test_size=0.1, random_state=1234)"
      ],
      "execution_count": 10,
      "outputs": []
    },
    {
      "cell_type": "code",
      "metadata": {
        "id": "aB4mipJmM7lW",
        "colab_type": "code",
        "colab": {}
      },
      "source": [
        "n_cols = X_trainset_v.shape[1]"
      ],
      "execution_count": 11,
      "outputs": []
    },
    {
      "cell_type": "code",
      "metadata": {
        "id": "dX-1ztpHM7jF",
        "colab_type": "code",
        "colab": {}
      },
      "source": [
        "def regression_model():\n",
        "    model = Sequential()\n",
        "    model.add(Dense(50, kernel_initializer='uniform', activation='relu', input_shape=(n_cols,)))\n",
        "    model.add(Dropout(0.15))\n",
        "    model.add(Dense(50, kernel_initializer='uniform', activation='softplus'))\n",
        "    model.add(Dropout(0.15))\n",
        "    model.add(Dense(2, kernel_initializer='uniform', activation='softmax'))\n",
        "    \n",
        "    sgd = SGD(lr=0.05, decay=1e-6, momentum=0.9, nesterov=True)\n",
        "    model.compile(optimizer=sgd, loss='categorical_crossentropy', metrics = ['accuracy'])\n",
        "    return model"
      ],
      "execution_count": 12,
      "outputs": []
    },
    {
      "cell_type": "code",
      "metadata": {
        "id": "Tx0JaSdcM7hF",
        "colab_type": "code",
        "colab": {}
      },
      "source": [
        "y_trainset_vc = to_categorical(y_trainset_v, num_classes = 2, dtype=\"int64\")"
      ],
      "execution_count": 13,
      "outputs": []
    },
    {
      "cell_type": "code",
      "metadata": {
        "id": "7cuZr-W9M7ex",
        "colab_type": "code",
        "colab": {
          "base_uri": "https://localhost:8080/",
          "height": 1000
        },
        "outputId": "6f97c6ab-4a3e-40b9-92d9-67407aa594b6"
      },
      "source": [
        "model = regression_model()\n",
        "model.fit(X_trainset_v, y_trainset_vc, validation_split=0.2, epochs=40, verbose=2)"
      ],
      "execution_count": 14,
      "outputs": [
        {
          "output_type": "stream",
          "text": [
            "Epoch 1/40\n",
            "1465/1465 - 2s - loss: 0.5947 - accuracy: 0.6816 - val_loss: 0.5619 - val_accuracy: 0.7081\n",
            "Epoch 2/40\n",
            "1465/1465 - 2s - loss: 0.5068 - accuracy: 0.7551 - val_loss: 0.4890 - val_accuracy: 0.7644\n",
            "Epoch 3/40\n",
            "1465/1465 - 2s - loss: 0.4933 - accuracy: 0.7653 - val_loss: 0.4728 - val_accuracy: 0.7801\n",
            "Epoch 4/40\n",
            "1465/1465 - 2s - loss: 0.4909 - accuracy: 0.7664 - val_loss: 0.5742 - val_accuracy: 0.7086\n",
            "Epoch 5/40\n",
            "1465/1465 - 2s - loss: 0.4852 - accuracy: 0.7710 - val_loss: 0.4828 - val_accuracy: 0.7806\n",
            "Epoch 6/40\n",
            "1465/1465 - 2s - loss: 0.4830 - accuracy: 0.7720 - val_loss: 0.5029 - val_accuracy: 0.7572\n",
            "Epoch 7/40\n",
            "1465/1465 - 2s - loss: 0.4797 - accuracy: 0.7734 - val_loss: 0.4725 - val_accuracy: 0.7850\n",
            "Epoch 8/40\n",
            "1465/1465 - 2s - loss: 0.4787 - accuracy: 0.7749 - val_loss: 0.4833 - val_accuracy: 0.7720\n",
            "Epoch 9/40\n",
            "1465/1465 - 2s - loss: 0.4757 - accuracy: 0.7741 - val_loss: 0.4912 - val_accuracy: 0.7785\n",
            "Epoch 10/40\n",
            "1465/1465 - 2s - loss: 0.4735 - accuracy: 0.7762 - val_loss: 0.4744 - val_accuracy: 0.7812\n",
            "Epoch 11/40\n",
            "1465/1465 - 2s - loss: 0.4728 - accuracy: 0.7769 - val_loss: 0.4784 - val_accuracy: 0.7785\n",
            "Epoch 12/40\n",
            "1465/1465 - 2s - loss: 0.4715 - accuracy: 0.7786 - val_loss: 0.4819 - val_accuracy: 0.7838\n",
            "Epoch 13/40\n",
            "1465/1465 - 2s - loss: 0.4699 - accuracy: 0.7778 - val_loss: 0.4708 - val_accuracy: 0.7780\n",
            "Epoch 14/40\n",
            "1465/1465 - 2s - loss: 0.4674 - accuracy: 0.7807 - val_loss: 0.4829 - val_accuracy: 0.7776\n",
            "Epoch 15/40\n",
            "1465/1465 - 2s - loss: 0.4659 - accuracy: 0.7798 - val_loss: 0.5013 - val_accuracy: 0.7617\n",
            "Epoch 16/40\n",
            "1465/1465 - 2s - loss: 0.4648 - accuracy: 0.7803 - val_loss: 0.4664 - val_accuracy: 0.7822\n",
            "Epoch 17/40\n",
            "1465/1465 - 2s - loss: 0.4635 - accuracy: 0.7820 - val_loss: 0.4694 - val_accuracy: 0.7844\n",
            "Epoch 18/40\n",
            "1465/1465 - 2s - loss: 0.4613 - accuracy: 0.7831 - val_loss: 0.4620 - val_accuracy: 0.7851\n",
            "Epoch 19/40\n",
            "1465/1465 - 2s - loss: 0.4583 - accuracy: 0.7834 - val_loss: 0.4833 - val_accuracy: 0.7661\n",
            "Epoch 20/40\n",
            "1465/1465 - 2s - loss: 0.4595 - accuracy: 0.7834 - val_loss: 0.4671 - val_accuracy: 0.7827\n",
            "Epoch 21/40\n",
            "1465/1465 - 2s - loss: 0.4593 - accuracy: 0.7824 - val_loss: 0.4706 - val_accuracy: 0.7840\n",
            "Epoch 22/40\n",
            "1465/1465 - 2s - loss: 0.4564 - accuracy: 0.7850 - val_loss: 0.4717 - val_accuracy: 0.7836\n",
            "Epoch 23/40\n",
            "1465/1465 - 2s - loss: 0.4543 - accuracy: 0.7852 - val_loss: 0.4703 - val_accuracy: 0.7827\n",
            "Epoch 24/40\n",
            "1465/1465 - 2s - loss: 0.4555 - accuracy: 0.7862 - val_loss: 0.4676 - val_accuracy: 0.7844\n",
            "Epoch 25/40\n",
            "1465/1465 - 2s - loss: 0.4540 - accuracy: 0.7878 - val_loss: 0.4703 - val_accuracy: 0.7830\n",
            "Epoch 26/40\n",
            "1465/1465 - 2s - loss: 0.4511 - accuracy: 0.7857 - val_loss: 0.4691 - val_accuracy: 0.7801\n",
            "Epoch 27/40\n",
            "1465/1465 - 2s - loss: 0.4499 - accuracy: 0.7869 - val_loss: 0.4733 - val_accuracy: 0.7792\n",
            "Epoch 28/40\n",
            "1465/1465 - 2s - loss: 0.4511 - accuracy: 0.7879 - val_loss: 0.4701 - val_accuracy: 0.7751\n",
            "Epoch 29/40\n",
            "1465/1465 - 2s - loss: 0.4480 - accuracy: 0.7888 - val_loss: 0.4802 - val_accuracy: 0.7849\n",
            "Epoch 30/40\n",
            "1465/1465 - 2s - loss: 0.4471 - accuracy: 0.7892 - val_loss: 0.4709 - val_accuracy: 0.7825\n",
            "Epoch 31/40\n",
            "1465/1465 - 2s - loss: 0.4462 - accuracy: 0.7888 - val_loss: 0.4681 - val_accuracy: 0.7827\n",
            "Epoch 32/40\n",
            "1465/1465 - 2s - loss: 0.4454 - accuracy: 0.7896 - val_loss: 0.4714 - val_accuracy: 0.7800\n",
            "Epoch 33/40\n",
            "1465/1465 - 2s - loss: 0.4429 - accuracy: 0.7913 - val_loss: 0.4694 - val_accuracy: 0.7789\n",
            "Epoch 34/40\n",
            "1465/1465 - 2s - loss: 0.4430 - accuracy: 0.7914 - val_loss: 0.4718 - val_accuracy: 0.7797\n",
            "Epoch 35/40\n",
            "1465/1465 - 2s - loss: 0.4423 - accuracy: 0.7921 - val_loss: 0.4680 - val_accuracy: 0.7848\n",
            "Epoch 36/40\n",
            "1465/1465 - 2s - loss: 0.4404 - accuracy: 0.7919 - val_loss: 0.4721 - val_accuracy: 0.7803\n",
            "Epoch 37/40\n",
            "1465/1465 - 2s - loss: 0.4406 - accuracy: 0.7922 - val_loss: 0.4698 - val_accuracy: 0.7841\n",
            "Epoch 38/40\n",
            "1465/1465 - 2s - loss: 0.4387 - accuracy: 0.7932 - val_loss: 0.4696 - val_accuracy: 0.7824\n",
            "Epoch 39/40\n",
            "1465/1465 - 2s - loss: 0.4380 - accuracy: 0.7923 - val_loss: 0.4744 - val_accuracy: 0.7764\n",
            "Epoch 40/40\n",
            "1465/1465 - 2s - loss: 0.4382 - accuracy: 0.7929 - val_loss: 0.4733 - val_accuracy: 0.7808\n"
          ],
          "name": "stdout"
        },
        {
          "output_type": "execute_result",
          "data": {
            "text/plain": [
              "<tensorflow.python.keras.callbacks.History at 0x7f1b0be27358>"
            ]
          },
          "metadata": {
            "tags": []
          },
          "execution_count": 14
        }
      ]
    },
    {
      "cell_type": "code",
      "metadata": {
        "id": "w8Shm9WQRvDo",
        "colab_type": "code",
        "colab": {}
      },
      "source": [
        "train_history = model.history.history"
      ],
      "execution_count": 15,
      "outputs": []
    },
    {
      "cell_type": "code",
      "metadata": {
        "id": "gnkMrQ02RwU8",
        "colab_type": "code",
        "colab": {
          "base_uri": "https://localhost:8080/",
          "height": 301
        },
        "outputId": "997bc4cd-5906-48dd-b471-9490ef39eff0"
      },
      "source": [
        "plt.plot(train_history['loss'])\n",
        "plt.plot(train_history['val_loss'])\n",
        "plt.title('Average Loss per Epoch vs Epoch')\n",
        "plt.ylabel('Average Loss per Epoch')\n",
        "plt.xlabel('Epoch')\n",
        "plt.legend(['Train', 'Val'], loc='upper left')\n",
        "plt.show()"
      ],
      "execution_count": 16,
      "outputs": [
        {
          "output_type": "display_data",
          "data": {
            "image/png": "[encoded data removed]",
            "text/plain": [
              "<Figure size 432x288 with 1 Axes>"
            ]
          },
          "metadata": {
            "tags": [],
            "needs_background": "light"
          }
        }
      ]
    },
    {
      "cell_type": "code",
      "metadata": {
        "id": "kVPEuXSbRwRe",
        "colab_type": "code",
        "colab": {
          "base_uri": "https://localhost:8080/",
          "height": 301
        },
        "outputId": "6bd2cc45-ee3e-43bc-926c-9939a388ba7e"
      },
      "source": [
        "plt.plot(train_history['accuracy'])\n",
        "plt.plot(train_history['val_accuracy'])\n",
        "plt.title('Accuracy vs Epoch')\n",
        "plt.ylabel('Accuracy')\n",
        "plt.xlabel('Epoch')\n",
        "plt.legend(['Train', 'Val'], loc='upper left')\n",
        "plt.show()"
      ],
      "execution_count": 17,
      "outputs": [
        {
          "output_type": "display_data",
          "data": {
            "image/png": "[encoded data removed]",
            "text/plain": [
              "<Figure size 432x288 with 1 Axes>"
            ]
          },
          "metadata": {
            "tags": [],
            "needs_background": "light"
          }
        }
      ]
    },
    {
      "cell_type": "code",
      "metadata": {
        "id": "I2KiGE2uR2iw",
        "colab_type": "code",
        "colab": {}
      },
      "source": [
        "yhat = model.predict(X_validset)\n",
        "yhat = np.round(yhat, decimals = 0)\n",
        "yhat = pd.DataFrame(yhat.astype('int'))"
      ],
      "execution_count": 18,
      "outputs": []
    },
    {
      "cell_type": "code",
      "metadata": {
        "id": "pknBzgb-R2fX",
        "colab_type": "code",
        "colab": {
          "base_uri": "https://localhost:8080/",
          "height": 34
        },
        "outputId": "b34a214e-74b9-4f0f-b733-2798217cacbe"
      },
      "source": [
        "confusion_matrix(y_validset, yhat[1], labels=[1,0]).ravel()"
      ],
      "execution_count": 19,
      "outputs": [
        {
          "output_type": "execute_result",
          "data": {
            "text/plain": [
              "array([1653,  817,  611, 3427])"
            ]
          },
          "metadata": {
            "tags": []
          },
          "execution_count": 19
        }
      ]
    },
    {
      "cell_type": "code",
      "metadata": {
        "id": "cm1KJUDiV9q-",
        "colab_type": "code",
        "colab": {}
      },
      "source": [
        "test = pd.read_csv('/content/drive/My Drive/Colab Notebooks/Kaggle/Santander/test.csv')"
      ],
      "execution_count": 20,
      "outputs": []
    },
    {
      "cell_type": "code",
      "metadata": {
        "id": "8rJgQLCoV76l",
        "colab_type": "code",
        "colab": {}
      },
      "source": [
        "test_s = test.drop([\"ID_code\"], axis=1)\n",
        "test_sn = normalize(test_s, norm = 'max', axis = 0)\n",
        "test_sn = pd.DataFrame(test_sn)"
      ],
      "execution_count": 21,
      "outputs": []
    },
    {
      "cell_type": "code",
      "metadata": {
        "id": "FjkRycUjV7sR",
        "colab_type": "code",
        "colab": {}
      },
      "source": [
        "yhat = model.predict(test_sn)\n",
        "yhat = np.round(yhat, decimals = 0)\n",
        "yhat = pd.DataFrame(yhat.astype('int'))\n",
        "yhat[\"y\"] = yhat[1]"
      ],
      "execution_count": 22,
      "outputs": []
    },
    {
      "cell_type": "code",
      "metadata": {
        "id": "vSSssMbXWbtp",
        "colab_type": "code",
        "colab": {}
      },
      "source": [
        "SS = pd.read_csv('/content/drive/My Drive/Colab Notebooks/Kaggle/Santander/sample_submission.csv')"
      ],
      "execution_count": 23,
      "outputs": []
    },
    {
      "cell_type": "code",
      "metadata": {
        "id": "6spfObDkWRCS",
        "colab_type": "code",
        "colab": {}
      },
      "source": [
        "SS = SS.join(yhat[\"y\"])\n",
        "SS = SS.drop([\"target\"], axis=1)"
      ],
      "execution_count": 24,
      "outputs": []
    },
    {
      "cell_type": "code",
      "metadata": {
        "id": "FjTFABlzZwdF",
        "colab_type": "code",
        "colab": {}
      },
      "source": [
        "SS.to_csv('sample_submission_NE_RN.csv', index=False)"
      ],
      "execution_count": 25,
      "outputs": []
    }
  ]
}