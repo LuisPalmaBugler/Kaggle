{
  "nbformat": 4,
  "nbformat_minor": 0,
  "metadata": {
    "colab": {
      "name": "Santander_Costumer_NE_LR.ipynb",
      "provenance": [],
      "mount_file_id": "16CY-RzUBtP-qFYywmOOO44SOlY1P_6bQ",
      "authorship_tag": "ABX9TyM/PIU9owKHcCfKGMEGurVy",
      "include_colab_link": true
    },
    "kernelspec": {
      "name": "python3",
      "display_name": "Python 3"
    }
  },
  "cells": [
    {
      "cell_type": "markdown",
      "metadata": {
        "id": "view-in-github",
        "colab_type": "text"
      },
      "source": [
        "<a href=\"https://colab.research.google.com/github/LuisPalmaBugler/Kaggle/blob/master/Santander_Costumer_NE_LR.ipynb\" target=\"_parent\"><img src=\"https://colab.research.google.com/assets/colab-badge.svg\" alt=\"Open In Colab\"/></a>"
      ]
    },
    {
      "cell_type": "code",
      "metadata": {
        "id": "fW6esNtPphVB",
        "colab_type": "code",
        "colab": {
          "base_uri": "https://localhost:8080/",
          "height": 52
        },
        "outputId": "3276a579-09cb-40de-984e-5bf2c3935f69"
      },
      "source": [
        "import numpy as np\n",
        "import pandas as pd\n",
        "import random\n",
        "random.seed(1234)\n",
        "import seaborn as sns\n",
        "import matplotlib.pyplot as plt\n",
        "%matplotlib inline\n",
        "sns.set()\n",
        "from sklearn.cluster import KMeans\n",
        "from sklearn.preprocessing import normalize\n",
        "from sklearn.preprocessing import StandardScaler\n",
        "from sklearn.model_selection import train_test_split\n",
        "from sklearn import preprocessing\n",
        "from sklearn.metrics import confusion_matrix\n",
        "from sklearn.linear_model import LogisticRegression\n",
        "from sklearn.model_selection import cross_validate\n",
        "\n",
        "import keras\n",
        "from keras.models import Sequential\n",
        "from keras.layers import Dense\n",
        "from keras.layers import Dropout\n",
        "from keras.layers import ThresholdedReLU\n",
        "from keras.utils import to_categorical\n",
        "from keras.optimizers import SGD"
      ],
      "execution_count": 1,
      "outputs": [
        {
          "output_type": "stream",
          "text": [
            "/usr/local/lib/python3.6/dist-packages/statsmodels/tools/_testing.py:19: FutureWarning: pandas.util.testing is deprecated. Use the functions in the public API at pandas.testing instead.\n",
            "  import pandas.util.testing as tm\n"
          ],
          "name": "stderr"
        }
      ]
    },
    {
      "cell_type": "code",
      "metadata": {
        "id": "_GsvpH9XptWM",
        "colab_type": "code",
        "colab": {}
      },
      "source": [
        "train = pd.read_csv('/content/drive/My Drive/Colab Notebooks/Kaggle/Santander/train.csv')"
      ],
      "execution_count": 2,
      "outputs": []
    },
    {
      "cell_type": "code",
      "metadata": {
        "id": "4jq3wfw6pxjv",
        "colab_type": "code",
        "colab": {
          "base_uri": "https://localhost:8080/",
          "height": 34
        },
        "outputId": "1b0fe74a-dd7c-4368-e7d4-276b71f78f1d"
      },
      "source": [
        "train_1 = train.loc[train[\"target\"] == 1]\n",
        "train_1.shape"
      ],
      "execution_count": 3,
      "outputs": [
        {
          "output_type": "execute_result",
          "data": {
            "text/plain": [
              "(20098, 202)"
            ]
          },
          "metadata": {
            "tags": []
          },
          "execution_count": 3
        }
      ]
    },
    {
      "cell_type": "code",
      "metadata": {
        "id": "BWswDxuepxwu",
        "colab_type": "code",
        "colab": {
          "base_uri": "https://localhost:8080/",
          "height": 34
        },
        "outputId": "ce6633b3-baaa-468a-9051-591eff6a3a94"
      },
      "source": [
        "train_0 = train.loc[train[\"target\"] == 0]\n",
        "train_0.shape"
      ],
      "execution_count": 4,
      "outputs": [
        {
          "output_type": "execute_result",
          "data": {
            "text/plain": [
              "(179902, 202)"
            ]
          },
          "metadata": {
            "tags": []
          },
          "execution_count": 4
        }
      ]
    },
    {
      "cell_type": "code",
      "metadata": {
        "id": "ChzxikqHpx2u",
        "colab_type": "code",
        "colab": {}
      },
      "source": [
        "train_1d = train_1.drop([\"target\",\"ID_code\"], axis=1)\n",
        "train_0d = train_0.drop([\"target\",\"ID_code\"], axis=1)"
      ],
      "execution_count": 5,
      "outputs": []
    },
    {
      "cell_type": "code",
      "metadata": {
        "id": "t0uQP81upx0S",
        "colab_type": "code",
        "colab": {}
      },
      "source": [
        "train_1d = normalize(train_1d, norm = 'max', axis = 0)\n",
        "train_0d = normalize(train_0d, norm = 'max', axis = 0)"
      ],
      "execution_count": 6,
      "outputs": []
    },
    {
      "cell_type": "code",
      "metadata": {
        "id": "xUIfBOStqK_d",
        "colab_type": "code",
        "colab": {}
      },
      "source": [
        "train_1d_std = train_1d.std(axis=0)\n",
        "train_1d_std = pd.DataFrame(train_1d_std)\n",
        "train_0d_std = train_0d.std(axis=0)\n",
        "train_0d_std = pd.DataFrame(train_0d_std)"
      ],
      "execution_count": 7,
      "outputs": []
    },
    {
      "cell_type": "code",
      "metadata": {
        "id": "-0jhHVEqqLUd",
        "colab_type": "code",
        "colab": {}
      },
      "source": [
        "X_trainset_0d, X_testset_0d, y_trainset_0d, y_testset_0d = train_test_split(train_0d, train_0[\"target\"] , test_size=0.25, random_state=1234)"
      ],
      "execution_count": 8,
      "outputs": []
    },
    {
      "cell_type": "code",
      "metadata": {
        "id": "dUFm97VTwzL9",
        "colab_type": "code",
        "colab": {}
      },
      "source": [
        "X_testset_0d = pd.DataFrame(X_testset_0d)\n",
        "train_f = train.loc[X_testset_0d.index, :]\n",
        "train_F = train_f.append(train_1)"
      ],
      "execution_count": 9,
      "outputs": []
    },
    {
      "cell_type": "code",
      "metadata": {
        "id": "YbnzMRdPwzbr",
        "colab_type": "code",
        "colab": {
          "base_uri": "https://localhost:8080/",
          "height": 302
        },
        "outputId": "b819f575-c4b8-4ddc-bc82-05a31bb156b5"
      },
      "source": [
        "train_yx_0 = pd.DataFrame(train_F[\"target\"])\n",
        "train_yx_0[\"x\"] = train_F[\"target\"]\n",
        "sns.countplot(train_yx_0[\"x\"], palette='Set3')"
      ],
      "execution_count": 10,
      "outputs": [
        {
          "output_type": "execute_result",
          "data": {
            "text/plain": [
              "<matplotlib.axes._subplots.AxesSubplot at 0x7f0d7b0b60f0>"
            ]
          },
          "metadata": {
            "tags": []
          },
          "execution_count": 10
        },
        {
          "output_type": "display_data",
          "data": {
            "image/png": "[encoded data removed]",
            "text/plain": [
              "<Figure size 432x288 with 1 Axes>"
            ]
          },
          "metadata": {
            "tags": [],
            "needs_background": "light"
          }
        }
      ]
    },
    {
      "cell_type": "code",
      "metadata": {
        "id": "x4paQTK0wzi9",
        "colab_type": "code",
        "colab": {}
      },
      "source": [
        "train_Fn = train_F.drop([\"target\",\"ID_code\"], axis=1)\n",
        "train_Fn = normalize(train_Fn, norm = 'max', axis = 0)\n",
        "train_Fn = pd.DataFrame(train_Fn)"
      ],
      "execution_count": 11,
      "outputs": []
    },
    {
      "cell_type": "code",
      "metadata": {
        "id": "L4u-CviJxtgc",
        "colab_type": "code",
        "colab": {}
      },
      "source": [
        "X_trainset_v, X_validset, y_trainset_v, y_validset = train_test_split(train_Fn, train_F[\"target\"] , test_size=0.1, random_state=1234)"
      ],
      "execution_count": 12,
      "outputs": []
    },
    {
      "cell_type": "code",
      "metadata": {
        "id": "1eVOWhlvxtl4",
        "colab_type": "code",
        "colab": {
          "base_uri": "https://localhost:8080/",
          "height": 52
        },
        "outputId": "d08fbe44-734b-4dc8-e078-fa731877c1b4"
      },
      "source": [
        "classifiers = []\n",
        "ConfustionMx = []\n",
        "C = 1.0\n",
        "X_trainset, X_testset, y_trainset, y_testset = train_test_split(X_trainset_v, y_trainset_v, test_size=0.10, random_state = 1)\n",
        "LR = LogisticRegression(C = C, solver='newton-cg', max_iter=200, penalty = 'l2', class_weight = 'balanced').fit(X_trainset,y_trainset)\n",
        "cv_results_train = cross_validate(LR, X_trainset, y_trainset, cv=4)\n",
        "cv_results_test = cross_validate(LR, X_testset, y_testset, cv=4)\n",
        "classifiers.append((cv_results_train['test_score'],cv_results_test['test_score'], C))\n",
        "print(classifiers)\n",
        "z_trainset = LR.predict(X_trainset)\n",
        "z_testset= LR.predict(X_testset)\n",
        "tn_n, fp_n, fn_n, tp_n = confusion_matrix(y_trainset, z_trainset, labels=[1,0]).ravel()\n",
        "tn_t, fp_t, fn_t, tp_t = confusion_matrix(y_testset, z_testset, labels=[1,0]).ravel()\n",
        "ConfustionMx.append((tn_n, tn_t, fp_n,fp_t, fn_n, fn_t, tp_n, tp_t))\n",
        "print(ConfustionMx)"
      ],
      "execution_count": 13,
      "outputs": [
        {
          "output_type": "stream",
          "text": [
            "[(array([0.78077098, 0.77278591, 0.78500417, 0.7721788 ]), array([0.75836177, 0.76912568, 0.74521858, 0.77117486]), 1.0)]\n",
            "[(15447, 1747, 4384, 511, 7200, 802, 25678, 2797)]\n"
          ],
          "name": "stdout"
        }
      ]
    },
    {
      "cell_type": "code",
      "metadata": {
        "id": "1RORtfMo2uV7",
        "colab_type": "code",
        "colab": {}
      },
      "source": [
        "y_validset = pd.DataFrame(y_validset)"
      ],
      "execution_count": 17,
      "outputs": []
    },
    {
      "cell_type": "code",
      "metadata": {
        "id": "UZBdW9_0xtdN",
        "colab_type": "code",
        "colab": {}
      },
      "source": [
        "y_hat_validset = LR.predict(X_validset)\n",
        "y_hat_val = pd.DataFrame(y_hat_validset)"
      ],
      "execution_count": 18,
      "outputs": []
    },
    {
      "cell_type": "code",
      "metadata": {
        "id": "LJjmto4q0Mep",
        "colab_type": "code",
        "colab": {
          "base_uri": "https://localhost:8080/",
          "height": 34
        },
        "outputId": "da8f00e5-54f3-424e-b110-0dad145cd09d"
      },
      "source": [
        "confusion_matrix(y_validset, y_hat_val, labels=[1,0]).ravel()"
      ],
      "execution_count": 19,
      "outputs": [
        {
          "output_type": "execute_result",
          "data": {
            "text/plain": [
              "array([1915,  555,  896, 3142])"
            ]
          },
          "metadata": {
            "tags": []
          },
          "execution_count": 19
        }
      ]
    },
    {
      "cell_type": "code",
      "metadata": {
        "id": "2bevnhmU3cxW",
        "colab_type": "code",
        "colab": {}
      },
      "source": [
        "test = pd.read_csv('/content/drive/My Drive/Colab Notebooks/Kaggle/Santander/test.csv')"
      ],
      "execution_count": null,
      "outputs": []
    },
    {
      "cell_type": "code",
      "metadata": {
        "id": "TGr5hPvB4K_h",
        "colab_type": "code",
        "colab": {}
      },
      "source": [
        "test_s = test.drop([\"ID_code\"], axis=1)\n",
        "test_sn = normalize(test_s, norm = 'max', axis = 0)\n",
        "test_sn = pd.DataFrame(test_sn)"
      ],
      "execution_count": null,
      "outputs": []
    },
    {
      "cell_type": "code",
      "metadata": {
        "id": "sB5rkK-E4ZVs",
        "colab_type": "code",
        "colab": {}
      },
      "source": [
        "z_hat_test = LR.predict(test_sn)"
      ],
      "execution_count": null,
      "outputs": []
    },
    {
      "cell_type": "code",
      "metadata": {
        "id": "oNVi562P4ZBv",
        "colab_type": "code",
        "colab": {}
      },
      "source": [
        "test_s[\"z\"] = z_hat_test"
      ],
      "execution_count": null,
      "outputs": []
    },
    {
      "cell_type": "code",
      "metadata": {
        "id": "MmSk3_9a8sac",
        "colab_type": "code",
        "colab": {}
      },
      "source": [
        "SS = pd.read_csv('/content/drive/My Drive/Colab Notebooks/Kaggle/Santander/sample_submission.csv')"
      ],
      "execution_count": null,
      "outputs": []
    },
    {
      "cell_type": "code",
      "metadata": {
        "id": "2KQzo5YSC_g2",
        "colab_type": "code",
        "colab": {
          "base_uri": "https://localhost:8080/",
          "height": 202
        },
        "outputId": "8b499708-8dbe-4447-8483-c1336610bf36"
      },
      "source": [
        "SS.head()"
      ],
      "execution_count": null,
      "outputs": [
        {
          "output_type": "execute_result",
          "data": {
            "text/html": [
              "<div>\n",
              "<style scoped>\n",
              "    .dataframe tbody tr th:only-of-type {\n",
              "        vertical-align: middle;\n",
              "    }\n",
              "\n",
              "    .dataframe tbody tr th {\n",
              "        vertical-align: top;\n",
              "    }\n",
              "\n",
              "    .dataframe thead th {\n",
              "        text-align: right;\n",
              "    }\n",
              "</style>\n",
              "<table border=\"1\" class=\"dataframe\">\n",
              "  <thead>\n",
              "    <tr style=\"text-align: right;\">\n",
              "      <th></th>\n",
              "      <th>ID_code</th>\n",
              "      <th>target</th>\n",
              "    </tr>\n",
              "  </thead>\n",
              "  <tbody>\n",
              "    <tr>\n",
              "      <th>0</th>\n",
              "      <td>test_0</td>\n",
              "      <td>0</td>\n",
              "    </tr>\n",
              "    <tr>\n",
              "      <th>1</th>\n",
              "      <td>test_1</td>\n",
              "      <td>0</td>\n",
              "    </tr>\n",
              "    <tr>\n",
              "      <th>2</th>\n",
              "      <td>test_2</td>\n",
              "      <td>0</td>\n",
              "    </tr>\n",
              "    <tr>\n",
              "      <th>3</th>\n",
              "      <td>test_3</td>\n",
              "      <td>0</td>\n",
              "    </tr>\n",
              "    <tr>\n",
              "      <th>4</th>\n",
              "      <td>test_4</td>\n",
              "      <td>0</td>\n",
              "    </tr>\n",
              "  </tbody>\n",
              "</table>\n",
              "</div>"
            ],
            "text/plain": [
              "  ID_code  target\n",
              "0  test_0       0\n",
              "1  test_1       0\n",
              "2  test_2       0\n",
              "3  test_3       0\n",
              "4  test_4       0"
            ]
          },
          "metadata": {
            "tags": []
          },
          "execution_count": 66
        }
      ]
    },
    {
      "cell_type": "code",
      "metadata": {
        "id": "_pF6qN2_8sPL",
        "colab_type": "code",
        "colab": {}
      },
      "source": [
        "SS = SS.join(test_s[\"z\"])"
      ],
      "execution_count": null,
      "outputs": []
    },
    {
      "cell_type": "code",
      "metadata": {
        "id": "RKKYTtpmDHxy",
        "colab_type": "code",
        "colab": {}
      },
      "source": [
        "SS.head(20)"
      ],
      "execution_count": null,
      "outputs": []
    },
    {
      "cell_type": "code",
      "metadata": {
        "id": "dL5rTd7O8r_z",
        "colab_type": "code",
        "colab": {}
      },
      "source": [
        "SS['y'] = SS[\"z\"].fillna(0)"
      ],
      "execution_count": null,
      "outputs": []
    },
    {
      "cell_type": "code",
      "metadata": {
        "id": "XubOgAde8rzD",
        "colab_type": "code",
        "colab": {}
      },
      "source": [
        "SS['y'] = SS['y'].astype('int')"
      ],
      "execution_count": null,
      "outputs": []
    },
    {
      "cell_type": "code",
      "metadata": {
        "id": "x9gDEzKH8rlr",
        "colab_type": "code",
        "colab": {}
      },
      "source": [
        "SS = SS.drop([\"target\"], axis=1)"
      ],
      "execution_count": null,
      "outputs": []
    },
    {
      "cell_type": "code",
      "metadata": {
        "id": "E-igDq4XD-TT",
        "colab_type": "code",
        "colab": {}
      },
      "source": [
        "SS.head(20)"
      ],
      "execution_count": null,
      "outputs": []
    },
    {
      "cell_type": "code",
      "metadata": {
        "id": "2reoaFgVAecf",
        "colab_type": "code",
        "colab": {}
      },
      "source": [
        "SS['target'] = SS['z']"
      ],
      "execution_count": null,
      "outputs": []
    },
    {
      "cell_type": "code",
      "metadata": {
        "id": "pAAEc3bLAplg",
        "colab_type": "code",
        "colab": {}
      },
      "source": [
        "SS = SS.drop([\"z\"], axis=1)"
      ],
      "execution_count": null,
      "outputs": []
    },
    {
      "cell_type": "code",
      "metadata": {
        "id": "1QXEzj4GApVZ",
        "colab_type": "code",
        "colab": {
          "base_uri": "https://localhost:8080/",
          "height": 202
        },
        "outputId": "8eaf43a7-54e8-41f2-8dd8-3e7ad6ea949a"
      },
      "source": [
        "SS.head()"
      ],
      "execution_count": null,
      "outputs": [
        {
          "output_type": "execute_result",
          "data": {
            "text/html": [
              "<div>\n",
              "<style scoped>\n",
              "    .dataframe tbody tr th:only-of-type {\n",
              "        vertical-align: middle;\n",
              "    }\n",
              "\n",
              "    .dataframe tbody tr th {\n",
              "        vertical-align: top;\n",
              "    }\n",
              "\n",
              "    .dataframe thead th {\n",
              "        text-align: right;\n",
              "    }\n",
              "</style>\n",
              "<table border=\"1\" class=\"dataframe\">\n",
              "  <thead>\n",
              "    <tr style=\"text-align: right;\">\n",
              "      <th></th>\n",
              "      <th>ID_code</th>\n",
              "      <th>target</th>\n",
              "    </tr>\n",
              "  </thead>\n",
              "  <tbody>\n",
              "    <tr>\n",
              "      <th>0</th>\n",
              "      <td>test_0</td>\n",
              "      <td>1</td>\n",
              "    </tr>\n",
              "    <tr>\n",
              "      <th>1</th>\n",
              "      <td>test_1</td>\n",
              "      <td>1</td>\n",
              "    </tr>\n",
              "    <tr>\n",
              "      <th>2</th>\n",
              "      <td>test_2</td>\n",
              "      <td>0</td>\n",
              "    </tr>\n",
              "    <tr>\n",
              "      <th>3</th>\n",
              "      <td>test_3</td>\n",
              "      <td>1</td>\n",
              "    </tr>\n",
              "    <tr>\n",
              "      <th>4</th>\n",
              "      <td>test_4</td>\n",
              "      <td>1</td>\n",
              "    </tr>\n",
              "  </tbody>\n",
              "</table>\n",
              "</div>"
            ],
            "text/plain": [
              "  ID_code  target\n",
              "0  test_0       1\n",
              "1  test_1       1\n",
              "2  test_2       0\n",
              "3  test_3       1\n",
              "4  test_4       1"
            ]
          },
          "metadata": {
            "tags": []
          },
          "execution_count": 80
        }
      ]
    },
    {
      "cell_type": "code",
      "metadata": {
        "id": "CNMJiJ-VBhHV",
        "colab_type": "code",
        "colab": {
          "base_uri": "https://localhost:8080/",
          "height": 34
        },
        "outputId": "befc8d65-4d09-46f6-99cd-f01e20c328bb"
      },
      "source": [
        "SS_1 = SS.loc[SS[\"target\"] == 1]\n",
        "SS_1.shape"
      ],
      "execution_count": null,
      "outputs": [
        {
          "output_type": "execute_result",
          "data": {
            "text/plain": [
              "(69523, 2)"
            ]
          },
          "metadata": {
            "tags": []
          },
          "execution_count": 81
        }
      ]
    },
    {
      "cell_type": "code",
      "metadata": {
        "id": "ePkqkjnhBiVI",
        "colab_type": "code",
        "colab": {
          "base_uri": "https://localhost:8080/",
          "height": 34
        },
        "outputId": "127b9ac8-e645-41ae-c096-7ce931cf2e7e"
      },
      "source": [
        "SS_0 = SS.loc[SS[\"target\"] == 0]\n",
        "SS_0.shape"
      ],
      "execution_count": null,
      "outputs": [
        {
          "output_type": "execute_result",
          "data": {
            "text/plain": [
              "(130477, 2)"
            ]
          },
          "metadata": {
            "tags": []
          },
          "execution_count": 83
        }
      ]
    },
    {
      "cell_type": "code",
      "metadata": {
        "id": "C-UjDKS3BiD7",
        "colab_type": "code",
        "colab": {}
      },
      "source": [
        "SS.to_csv('sample_submission_NE_LR.csv', index=False)"
      ],
      "execution_count": null,
      "outputs": []
    }
  ]
}